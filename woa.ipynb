{
 "cells": [
  {
   "cell_type": "code",
   "execution_count": 22,
   "id": "49bb579c-f77b-45f4-8cfc-0bb61f2438f1",
   "metadata": {},
   "outputs": [],
   "source": [
    "import numpy as np\n",
    "import pandas as pd\n",
    "from sklearn.metrics import accuracy_score\n",
    "\n",
    "import warnings\n",
    "warnings.filterwarnings(\"ignore\")\n",
    "\n",
    "# Read dataset\n",
    "data = pd.read_csv('alzheimer.csv')"
   ]
  },
  {
   "cell_type": "code",
   "execution_count": 23,
   "id": "253bb841-a383-417c-bfe9-46c03acd7b06",
   "metadata": {},
   "outputs": [],
   "source": [
    "# Encode the group column\n",
    "data.Group = data.Group.map({'Nondemented':1,'Demented':0})\n",
    "\n",
    "# Encode the gender column\n",
    "data.Gender = data.Gender.map({'M': 1, 'F': 0})"
   ]
  },
  {
   "cell_type": "code",
   "execution_count": 24,
   "id": "2ebcf159-002c-4326-ad46-6c9a456d723b",
   "metadata": {},
   "outputs": [
    {
     "data": {
      "text/plain": [
       "Group     0\n",
       "Gender    0\n",
       "Age       0\n",
       "EDUC      0\n",
       "SES       0\n",
       "MMSE      0\n",
       "CDR       0\n",
       "eTIV      0\n",
       "nWBV      0\n",
       "ASF       0\n",
       "dtype: int64"
      ]
     },
     "execution_count": 24,
     "metadata": {},
     "output_type": "execute_result"
    }
   ],
   "source": [
    "data.fillna(data.median(), inplace=True)\n",
    "\n",
    "data.isnull().sum()"
   ]
  },
  {
   "cell_type": "code",
   "execution_count": 25,
   "id": "7a9760ab-e2fc-4cb7-985e-e40facf533b0",
   "metadata": {},
   "outputs": [],
   "source": [
    "features=data.drop(columns='Group', axis=1)\n",
    "labels=data.loc[:,'Group']"
   ]
  },
  {
   "cell_type": "code",
   "execution_count": 26,
   "id": "ecbcf0c9-ad5a-4737-b1cc-a2e328fbd968",
   "metadata": {},
   "outputs": [],
   "source": [
    "class WOA_Disease:\n",
    "    def __init__(self, max_iter=200, population_size=20, a=0.5, b=1):\n",
    "        self.max_iter = max_iter\n",
    "        self.population_size = population_size\n",
    "        self.a = a\n",
    "        self.b = b\n",
    "\n",
    "    def fit(self, data, labels):\n",
    "        self.data = data\n",
    "        self.labels = labels\n",
    "# Initialize population with all features selected\n",
    "        self.population = np.ones((self.population_size, data.shape[1]))\n",
    "\n",
    "        for epoch in range(self.max_iter):\n",
    "            # Update population\n",
    "            self.update_population()\n",
    "\n",
    "        # Select best solution\n",
    "        best_fitness = min(self.evaluate_fitness())\n",
    "        best_index = np.argmin(self.evaluate_fitness())\n",
    "        self.best_solution = self.population[best_index]\n",
    "        self.best_features = self.data.columns[self.best_solution.astype(bool)].tolist()\n",
    "\n",
    "    def update_population(self):\n",
    "        for i in range(self.population_size):\n",
    "            r = np.random.rand()\n",
    "#search\n",
    "            A = 2 * self.a * r - self.a\n",
    "            C = 2 * r\n",
    "            p = np.random.rand()\n",
    "#encircling the prey\n",
    "            if p < 0.5:\n",
    "                if np.abs(A) < 1:\n",
    "                    self.population[i] = self.search_preys(A, C, i)\n",
    "                else:\n",
    "                    rand_leader_index = np.random.randint(0, self.population_size)\n",
    "                    rand_leader = self.population[rand_leader_index]\n",
    "                    self.population[i] = rand_leader + A * (rand_leader - self.population[i])\n",
    "#bubble net attacking\n",
    "            else:\n",
    "                distance_to_leader = np.abs(self.population[i] - self.population[0])\n",
    "                self.population[i] = distance_to_leader * np.exp(self.b * C) * np.cos(2 * np.pi * C) + self.population[0]\n",
    "\n",
    "    def evaluate_fitness(self):\n",
    "        fitness = []\n",
    "        for solution in self.population:\n",
    "            selected_features = self.data.columns[solution.astype(bool)].tolist()\n",
    "            # Here, you would apply your liver disease prediction model to evaluate the fitness of each solution\n",
    "            # For demonstration purposes, let's assume a simple fitness based on the difference between predicted and actual labels\n",
    "            # Random prediction for demonstration\n",
    "            predicted_labels = np.random.randint(0, 2, size=len(self.labels))  \n",
    "            fitness.append(np.abs(predicted_labels - self.labels).sum())\n",
    "        return fitness\n",
    "        \n",
    "\n",
    "    def search_preys(self, A, C, i):\n",
    "        # Ensure that the solution remains unchanged\n",
    "        return self.population[i]"
   ]
  },
  {
   "cell_type": "code",
   "execution_count": 27,
   "id": "10cc3080-e994-4253-81ae-3adc0647f815",
   "metadata": {},
   "outputs": [],
   "source": [
    "# Initialize and fit the model\n",
    "woa_disease = WOA_Disease()\n",
    "woa_disease.fit(features, labels)"
   ]
  },
  {
   "cell_type": "code",
   "execution_count": 28,
   "id": "db5c1c93-759b-486b-b052-ec90751ca246",
   "metadata": {},
   "outputs": [],
   "source": [
    "# Get the best solution and selected features\n",
    "best_solution = woa_disease.best_solution\n",
    "selected_features = woa_disease.best_features"
   ]
  },
  {
   "cell_type": "code",
   "execution_count": 29,
   "id": "e4eb947b-3213-497b-a957-02a8db1fda1d",
   "metadata": {},
   "outputs": [],
   "source": [
    "from sklearn.model_selection import train_test_split\n",
    "X_train, X_test, y_train, y_test = train_test_split(features[selected_features], labels, test_size=0.2, random_state=42)\n",
    "\n",
    "# Train your classification model using the selected features\n",
    "from sklearn.ensemble import RandomForestClassifier\n",
    "model = RandomForestClassifier()\n",
    "model.fit(X_train, y_train)\n",
    "\n",
    "# Predict labels for the test set\n",
    "predicted_labels = model.predict(X_test)\n",
    "\n",
    "# Calculate accuracy\n",
    "accuracy = accuracy_score(y_test, predicted_labels)\n"
   ]
  },
  {
   "cell_type": "code",
   "execution_count": 30,
   "id": "ab7a0229-debf-45d2-866e-3833f2ddee9c",
   "metadata": {},
   "outputs": [
    {
     "name": "stdout",
     "output_type": "stream",
     "text": [
      "Best solution: [1. 1. 1. 1. 1. 1. 1. 1. 1.]\n",
      "Selected features: ['Gender', 'Age', 'EDUC', 'SES', 'MMSE', 'CDR', 'eTIV', 'nWBV', 'ASF']\n",
      "Accuracy: 94.66666666666667\n"
     ]
    }
   ],
   "source": [
    "print(\"Best solution:\", best_solution)\n",
    "print(\"Selected features:\", selected_features)\n",
    "print(\"Accuracy:\", accuracy*100)"
   ]
  },
  {
   "cell_type": "code",
   "execution_count": null,
   "id": "06c077b7-a122-4054-bae3-516f71ecd12b",
   "metadata": {},
   "outputs": [],
   "source": []
  }
 ],
 "metadata": {
  "kernelspec": {
   "display_name": "Python 3 (ipykernel)",
   "language": "python",
   "name": "python3"
  },
  "language_info": {
   "codemirror_mode": {
    "name": "ipython",
    "version": 3
   },
   "file_extension": ".py",
   "mimetype": "text/x-python",
   "name": "python",
   "nbconvert_exporter": "python",
   "pygments_lexer": "ipython3",
   "version": "3.11.5"
  }
 },
 "nbformat": 4,
 "nbformat_minor": 5
}
